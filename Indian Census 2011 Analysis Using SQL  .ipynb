{
 "cells": [
  {
   "cell_type": "markdown",
   "id": "da7d2786",
   "metadata": {},
   "source": [
    "# Indian Census 2011 Analysis Using SQL\n"
   ]
  },
  {
   "cell_type": "markdown",
   "id": "9f1babba",
   "metadata": {},
   "source": [
    "# Objective\n",
    "\n"
   ]
  },
  {
   "cell_type": "markdown",
   "id": "a188da82",
   "metadata": {},
   "source": [
    "To perform comprehensive analysis of Indian census data using SQL to gain insights into demographic trends, population distribution, and socioeconomic indicators. The aim is to leverage SQL querying and data manipulation techniques to extract meaningful information, identify patterns, and generate actionable recommendations to support evidence-based decision-making in various domains, such as  public policy, and resource allocation.\n"
   ]
  },
  {
   "cell_type": "markdown",
   "id": "253cf2ee",
   "metadata": {},
   "source": [
    "## 01. Importing sql and pandas"
   ]
  },
  {
   "cell_type": "code",
   "execution_count": 59,
   "id": "92af36c1",
   "metadata": {},
   "outputs": [],
   "source": [
    "import pandas as pd\n",
    "import sqlite3\n"
   ]
  },
  {
   "cell_type": "code",
   "execution_count": 60,
   "id": "f9828769",
   "metadata": {},
   "outputs": [
    {
     "name": "stdout",
     "output_type": "stream",
     "text": [
      "Requirement already satisfied: ipython-sql in c:\\users\\raju kumar gond\\anaconda3\\lib\\site-packages (0.5.0)\n",
      "Requirement already satisfied: sqlalchemy>=2.0 in c:\\users\\raju kumar gond\\anaconda3\\lib\\site-packages (from ipython-sql) (2.0.16)\n",
      "Requirement already satisfied: ipython in c:\\users\\raju kumar gond\\anaconda3\\lib\\site-packages (from ipython-sql) (8.2.0)\n",
      "Requirement already satisfied: ipython-genutils in c:\\users\\raju kumar gond\\anaconda3\\lib\\site-packages (from ipython-sql) (0.2.0)\n",
      "Requirement already satisfied: six in c:\\users\\raju kumar gond\\anaconda3\\lib\\site-packages (from ipython-sql) (1.16.0)\n",
      "Requirement already satisfied: sqlparse in c:\\users\\raju kumar gond\\anaconda3\\lib\\site-packages (from ipython-sql) (0.4.4)\n",
      "Requirement already satisfied: prettytable in c:\\users\\raju kumar gond\\anaconda3\\lib\\site-packages (from ipython-sql) (3.8.0)\n",
      "Requirement already satisfied: typing-extensions>=4.2.0 in c:\\users\\raju kumar gond\\anaconda3\\lib\\site-packages (from sqlalchemy>=2.0->ipython-sql) (4.6.3)\n",
      "Requirement already satisfied: greenlet!=0.4.17 in c:\\users\\raju kumar gond\\anaconda3\\lib\\site-packages (from sqlalchemy>=2.0->ipython-sql) (1.1.1)\n",
      "Requirement already satisfied: matplotlib-inline in c:\\users\\raju kumar gond\\anaconda3\\lib\\site-packages (from ipython->ipython-sql) (0.1.2)\n",
      "Requirement already satisfied: prompt-toolkit!=3.0.0,!=3.0.1,<3.1.0,>=2.0.0 in c:\\users\\raju kumar gond\\anaconda3\\lib\\site-packages (from ipython->ipython-sql) (3.0.20)\n",
      "Requirement already satisfied: pickleshare in c:\\users\\raju kumar gond\\anaconda3\\lib\\site-packages (from ipython->ipython-sql) (0.7.5)\n",
      "Requirement already satisfied: colorama in c:\\users\\raju kumar gond\\anaconda3\\lib\\site-packages (from ipython->ipython-sql) (0.4.4)\n",
      "Requirement already satisfied: backcall in c:\\users\\raju kumar gond\\anaconda3\\lib\\site-packages (from ipython->ipython-sql) (0.2.0)\n",
      "Requirement already satisfied: pygments>=2.4.0 in c:\\users\\raju kumar gond\\anaconda3\\lib\\site-packages (from ipython->ipython-sql) (2.11.2)\n",
      "Requirement already satisfied: setuptools>=18.5 in c:\\users\\raju kumar gond\\anaconda3\\lib\\site-packages (from ipython->ipython-sql) (61.2.0)\n",
      "Requirement already satisfied: decorator in c:\\users\\raju kumar gond\\anaconda3\\lib\\site-packages (from ipython->ipython-sql) (5.1.1)\n",
      "Requirement already satisfied: jedi>=0.16 in c:\\users\\raju kumar gond\\anaconda3\\lib\\site-packages (from ipython->ipython-sql) (0.18.1)\n",
      "Requirement already satisfied: stack-data in c:\\users\\raju kumar gond\\anaconda3\\lib\\site-packages (from ipython->ipython-sql) (0.2.0)\n",
      "Requirement already satisfied: traitlets>=5 in c:\\users\\raju kumar gond\\anaconda3\\lib\\site-packages (from ipython->ipython-sql) (5.1.1)\n",
      "Requirement already satisfied: parso<0.9.0,>=0.8.0 in c:\\users\\raju kumar gond\\anaconda3\\lib\\site-packages (from jedi>=0.16->ipython->ipython-sql) (0.8.3)\n",
      "Requirement already satisfied: wcwidth in c:\\users\\raju kumar gond\\anaconda3\\lib\\site-packages (from prompt-toolkit!=3.0.0,!=3.0.1,<3.1.0,>=2.0.0->ipython->ipython-sql) (0.2.5)\n",
      "Requirement already satisfied: executing in c:\\users\\raju kumar gond\\anaconda3\\lib\\site-packages (from stack-data->ipython->ipython-sql) (0.8.3)\n",
      "Requirement already satisfied: pure-eval in c:\\users\\raju kumar gond\\anaconda3\\lib\\site-packages (from stack-data->ipython->ipython-sql) (0.2.2)\n",
      "Requirement already satisfied: asttokens in c:\\users\\raju kumar gond\\anaconda3\\lib\\site-packages (from stack-data->ipython->ipython-sql) (2.0.5)\n"
     ]
    }
   ],
   "source": [
    "!pip install ipython-sql\n"
   ]
  },
  {
   "cell_type": "markdown",
   "id": "87ca87ac",
   "metadata": {},
   "source": [
    "## 02.Loading dataset using pandas"
   ]
  },
  {
   "cell_type": "code",
   "execution_count": 63,
   "id": "06516694",
   "metadata": {},
   "outputs": [],
   "source": [
    "df_1=pd.read_excel('Dataset1.xlsx')\n",
    "df_2=pd.read_excel('Dataset2.xlsx')\n",
    " "
   ]
  },
  {
   "cell_type": "code",
   "execution_count": 57,
   "id": "597d8bf1",
   "metadata": {},
   "outputs": [
    {
     "data": {
      "text/html": [
       "<div>\n",
       "<style scoped>\n",
       "    .dataframe tbody tr th:only-of-type {\n",
       "        vertical-align: middle;\n",
       "    }\n",
       "\n",
       "    .dataframe tbody tr th {\n",
       "        vertical-align: top;\n",
       "    }\n",
       "\n",
       "    .dataframe thead th {\n",
       "        text-align: right;\n",
       "    }\n",
       "</style>\n",
       "<table border=\"1\" class=\"dataframe\">\n",
       "  <thead>\n",
       "    <tr style=\"text-align: right;\">\n",
       "      <th></th>\n",
       "      <th>District</th>\n",
       "      <th>State</th>\n",
       "      <th>Growth</th>\n",
       "      <th>Sex_Ratio</th>\n",
       "      <th>Literacy</th>\n",
       "    </tr>\n",
       "  </thead>\n",
       "  <tbody>\n",
       "    <tr>\n",
       "      <th>0</th>\n",
       "      <td>Thane</td>\n",
       "      <td>Maharashtra</td>\n",
       "      <td>0.3601</td>\n",
       "      <td>886</td>\n",
       "      <td>84.53</td>\n",
       "    </tr>\n",
       "    <tr>\n",
       "      <th>1</th>\n",
       "      <td>North Twenty Four Parganas</td>\n",
       "      <td>West Bengal</td>\n",
       "      <td>0.1204</td>\n",
       "      <td>955</td>\n",
       "      <td>84.06</td>\n",
       "    </tr>\n",
       "    <tr>\n",
       "      <th>2</th>\n",
       "      <td>Bangalore</td>\n",
       "      <td>Karnataka</td>\n",
       "      <td>0.4718</td>\n",
       "      <td>916</td>\n",
       "      <td>87.67</td>\n",
       "    </tr>\n",
       "    <tr>\n",
       "      <th>3</th>\n",
       "      <td>Pune</td>\n",
       "      <td>Maharashtra</td>\n",
       "      <td>0.3037</td>\n",
       "      <td>915</td>\n",
       "      <td>86.15</td>\n",
       "    </tr>\n",
       "    <tr>\n",
       "      <th>4</th>\n",
       "      <td>Mumbai Suburban</td>\n",
       "      <td>Maharashtra</td>\n",
       "      <td>0.0829</td>\n",
       "      <td>860</td>\n",
       "      <td>89.91</td>\n",
       "    </tr>\n",
       "  </tbody>\n",
       "</table>\n",
       "</div>"
      ],
      "text/plain": [
       "                     District        State  Growth  Sex_Ratio  Literacy\n",
       "0                       Thane  Maharashtra  0.3601        886     84.53\n",
       "1  North Twenty Four Parganas  West Bengal  0.1204        955     84.06\n",
       "2                   Bangalore    Karnataka  0.4718        916     87.67\n",
       "3                        Pune  Maharashtra  0.3037        915     86.15\n",
       "4             Mumbai Suburban  Maharashtra  0.0829        860     89.91"
      ]
     },
     "execution_count": 57,
     "metadata": {},
     "output_type": "execute_result"
    }
   ],
   "source": [
    "df_1.head()"
   ]
  },
  {
   "cell_type": "code",
   "execution_count": 58,
   "id": "f6b5a328",
   "metadata": {},
   "outputs": [
    {
     "data": {
      "text/html": [
       "<div>\n",
       "<style scoped>\n",
       "    .dataframe tbody tr th:only-of-type {\n",
       "        vertical-align: middle;\n",
       "    }\n",
       "\n",
       "    .dataframe tbody tr th {\n",
       "        vertical-align: top;\n",
       "    }\n",
       "\n",
       "    .dataframe thead th {\n",
       "        text-align: right;\n",
       "    }\n",
       "</style>\n",
       "<table border=\"1\" class=\"dataframe\">\n",
       "  <thead>\n",
       "    <tr style=\"text-align: right;\">\n",
       "      <th></th>\n",
       "      <th>District</th>\n",
       "      <th>State</th>\n",
       "      <th>Area_km2</th>\n",
       "      <th>Population</th>\n",
       "    </tr>\n",
       "  </thead>\n",
       "  <tbody>\n",
       "    <tr>\n",
       "      <th>0</th>\n",
       "      <td>Adilabad</td>\n",
       "      <td>Andhra Pradesh</td>\n",
       "      <td>16105</td>\n",
       "      <td>2741239</td>\n",
       "    </tr>\n",
       "    <tr>\n",
       "      <th>1</th>\n",
       "      <td>Agra</td>\n",
       "      <td>Uttar Pradesh</td>\n",
       "      <td>4041</td>\n",
       "      <td>4418797</td>\n",
       "    </tr>\n",
       "    <tr>\n",
       "      <th>2</th>\n",
       "      <td>Ahmadabad</td>\n",
       "      <td>Gujarat</td>\n",
       "      <td>8107</td>\n",
       "      <td>7214225</td>\n",
       "    </tr>\n",
       "    <tr>\n",
       "      <th>3</th>\n",
       "      <td>Ahmadnagar</td>\n",
       "      <td>Maharashtra</td>\n",
       "      <td>17048</td>\n",
       "      <td>4543159</td>\n",
       "    </tr>\n",
       "    <tr>\n",
       "      <th>4</th>\n",
       "      <td>Aizawl</td>\n",
       "      <td>Mizoram</td>\n",
       "      <td>3576</td>\n",
       "      <td>400309</td>\n",
       "    </tr>\n",
       "  </tbody>\n",
       "</table>\n",
       "</div>"
      ],
      "text/plain": [
       "     District           State  Area_km2  Population\n",
       "0    Adilabad  Andhra Pradesh     16105     2741239\n",
       "1        Agra   Uttar Pradesh      4041     4418797\n",
       "2   Ahmadabad         Gujarat      8107     7214225\n",
       "3  Ahmadnagar     Maharashtra     17048     4543159\n",
       "4      Aizawl         Mizoram      3576      400309"
      ]
     },
     "execution_count": 58,
     "metadata": {},
     "output_type": "execute_result"
    }
   ],
   "source": [
    "df_2.head()"
   ]
  },
  {
   "cell_type": "markdown",
   "id": "9b7167f5",
   "metadata": {},
   "source": [
    "## 03.Creating a connection to the database"
   ]
  },
  {
   "cell_type": "code",
   "execution_count": 64,
   "id": "f16bc2f9",
   "metadata": {},
   "outputs": [],
   "source": [
    "connection=sqlite3.connect('jupyter_sql_tutorial.db')"
   ]
  },
  {
   "cell_type": "markdown",
   "id": "8a68164b",
   "metadata": {},
   "source": [
    "## 04.Naming the database and holding the connections"
   ]
  },
  {
   "cell_type": "code",
   "execution_count": 38,
   "id": "7f285985",
   "metadata": {},
   "outputs": [
    {
     "data": {
      "text/plain": [
       "640"
      ]
     },
     "execution_count": 38,
     "metadata": {},
     "output_type": "execute_result"
    }
   ],
   "source": [
    "df_1.to_sql('Dataset__1',connection)"
   ]
  },
  {
   "cell_type": "code",
   "execution_count": 39,
   "id": "cb2bc437",
   "metadata": {},
   "outputs": [
    {
     "data": {
      "text/plain": [
       "640"
      ]
     },
     "execution_count": 39,
     "metadata": {},
     "output_type": "execute_result"
    }
   ],
   "source": [
    "df_2.to_sql('Dataset__2',connection)"
   ]
  },
  {
   "cell_type": "markdown",
   "id": "45a6e4f9",
   "metadata": {},
   "source": [
    "## 05.Loading sql module to iPython"
   ]
  },
  {
   "cell_type": "code",
   "execution_count": 61,
   "id": "0d7a6d4f",
   "metadata": {},
   "outputs": [],
   "source": [
    "%reload_ext sql\n"
   ]
  },
  {
   "cell_type": "code",
   "execution_count": 62,
   "id": "1b5c51e8",
   "metadata": {},
   "outputs": [],
   "source": [
    "%sql sqlite:///jupyter_sql_tutorial.db\n",
    "   "
   ]
  },
  {
   "cell_type": "markdown",
   "id": "c4b4bcb6",
   "metadata": {},
   "source": [
    "## 06. Dataset - cheking how actually dataset looks like"
   ]
  },
  {
   "cell_type": "code",
   "execution_count": 65,
   "id": "eff73d4b",
   "metadata": {},
   "outputs": [
    {
     "name": "stdout",
     "output_type": "stream",
     "text": [
      " * sqlite:///jupyter_sql_tutorial.db\n",
      "Done.\n"
     ]
    },
    {
     "data": {
      "text/html": [
       "<table>\n",
       "    <thead>\n",
       "        <tr>\n",
       "            <th>index</th>\n",
       "            <th>District</th>\n",
       "            <th>State</th>\n",
       "            <th>Growth</th>\n",
       "            <th>Sex_Ratio</th>\n",
       "            <th>Literacy</th>\n",
       "        </tr>\n",
       "    </thead>\n",
       "    <tbody>\n",
       "        <tr>\n",
       "            <td>0</td>\n",
       "            <td>Thane</td>\n",
       "            <td>Maharashtra</td>\n",
       "            <td>0.3601</td>\n",
       "            <td>886</td>\n",
       "            <td>84.53</td>\n",
       "        </tr>\n",
       "        <tr>\n",
       "            <td>1</td>\n",
       "            <td>North Twenty Four Parganas</td>\n",
       "            <td>West Bengal</td>\n",
       "            <td>0.1204</td>\n",
       "            <td>955</td>\n",
       "            <td>84.06</td>\n",
       "        </tr>\n",
       "        <tr>\n",
       "            <td>2</td>\n",
       "            <td>Bangalore</td>\n",
       "            <td>Karnataka</td>\n",
       "            <td>0.4718</td>\n",
       "            <td>916</td>\n",
       "            <td>87.67</td>\n",
       "        </tr>\n",
       "        <tr>\n",
       "            <td>3</td>\n",
       "            <td>Pune</td>\n",
       "            <td>Maharashtra</td>\n",
       "            <td>0.3037</td>\n",
       "            <td>915</td>\n",
       "            <td>86.15</td>\n",
       "        </tr>\n",
       "        <tr>\n",
       "            <td>4</td>\n",
       "            <td>Mumbai Suburban</td>\n",
       "            <td>Maharashtra</td>\n",
       "            <td>0.0829</td>\n",
       "            <td>860</td>\n",
       "            <td>89.91</td>\n",
       "        </tr>\n",
       "        <tr>\n",
       "            <td>5</td>\n",
       "            <td>South Twenty Four Parganas</td>\n",
       "            <td>West Bengal</td>\n",
       "            <td>0.1817</td>\n",
       "            <td>956</td>\n",
       "            <td>77.51</td>\n",
       "        </tr>\n",
       "        <tr>\n",
       "            <td>6</td>\n",
       "            <td>Barddhaman</td>\n",
       "            <td>West Bengal</td>\n",
       "            <td>0.1192</td>\n",
       "            <td>945</td>\n",
       "            <td>76.21</td>\n",
       "        </tr>\n",
       "        <tr>\n",
       "            <td>7</td>\n",
       "            <td>Ahmadabad</td>\n",
       "            <td>Gujarat</td>\n",
       "            <td>0.2403</td>\n",
       "            <td>904</td>\n",
       "            <td>85.31</td>\n",
       "        </tr>\n",
       "        <tr>\n",
       "            <td>8</td>\n",
       "            <td>Murshidabad</td>\n",
       "            <td>West Bengal</td>\n",
       "            <td>0.2109</td>\n",
       "            <td>958</td>\n",
       "            <td>66.59</td>\n",
       "        </tr>\n",
       "        <tr>\n",
       "            <td>9</td>\n",
       "            <td>Jaipur</td>\n",
       "            <td>Rajasthan</td>\n",
       "            <td>0.2619</td>\n",
       "            <td>910</td>\n",
       "            <td>75.51</td>\n",
       "        </tr>\n",
       "    </tbody>\n",
       "</table>"
      ],
      "text/plain": [
       "[(0, 'Thane', 'Maharashtra', 0.3601, 886, 84.53),\n",
       " (1, 'North Twenty Four Parganas', 'West Bengal', 0.1204, 955, 84.06),\n",
       " (2, 'Bangalore', 'Karnataka', 0.4718, 916, 87.67),\n",
       " (3, 'Pune', 'Maharashtra', 0.3037, 915, 86.15),\n",
       " (4, 'Mumbai Suburban', 'Maharashtra', 0.0829, 860, 89.91),\n",
       " (5, 'South Twenty Four Parganas', 'West Bengal', 0.1817, 956, 77.51),\n",
       " (6, 'Barddhaman', 'West Bengal', 0.1192, 945, 76.21),\n",
       " (7, 'Ahmadabad', 'Gujarat', 0.2403, 904, 85.31),\n",
       " (8, 'Murshidabad', 'West Bengal', 0.2109, 958, 66.59),\n",
       " (9, 'Jaipur', 'Rajasthan', 0.2619, 910, 75.51)]"
      ]
     },
     "execution_count": 65,
     "metadata": {},
     "output_type": "execute_result"
    }
   ],
   "source": [
    " %%sql\n",
    "select * from Dataset__1 limit 10"
   ]
  },
  {
   "cell_type": "code",
   "execution_count": 66,
   "id": "ce37419a",
   "metadata": {},
   "outputs": [
    {
     "name": "stdout",
     "output_type": "stream",
     "text": [
      " * sqlite:///jupyter_sql_tutorial.db\n",
      "Done.\n"
     ]
    },
    {
     "data": {
      "text/html": [
       "<table>\n",
       "    <thead>\n",
       "        <tr>\n",
       "            <th>index</th>\n",
       "            <th>District</th>\n",
       "            <th>State</th>\n",
       "            <th>Area_km2</th>\n",
       "            <th>Population</th>\n",
       "        </tr>\n",
       "    </thead>\n",
       "    <tbody>\n",
       "        <tr>\n",
       "            <td>0</td>\n",
       "            <td>Adilabad</td>\n",
       "            <td>Andhra Pradesh</td>\n",
       "            <td>16105</td>\n",
       "            <td>2741239</td>\n",
       "        </tr>\n",
       "        <tr>\n",
       "            <td>1</td>\n",
       "            <td>Agra</td>\n",
       "            <td>Uttar Pradesh</td>\n",
       "            <td>4041</td>\n",
       "            <td>4418797</td>\n",
       "        </tr>\n",
       "        <tr>\n",
       "            <td>2</td>\n",
       "            <td>Ahmadabad</td>\n",
       "            <td>Gujarat</td>\n",
       "            <td>8107</td>\n",
       "            <td>7214225</td>\n",
       "        </tr>\n",
       "        <tr>\n",
       "            <td>3</td>\n",
       "            <td>Ahmadnagar</td>\n",
       "            <td>Maharashtra</td>\n",
       "            <td>17048</td>\n",
       "            <td>4543159</td>\n",
       "        </tr>\n",
       "        <tr>\n",
       "            <td>4</td>\n",
       "            <td>Aizawl</td>\n",
       "            <td>Mizoram</td>\n",
       "            <td>3576</td>\n",
       "            <td>400309</td>\n",
       "        </tr>\n",
       "        <tr>\n",
       "            <td>5</td>\n",
       "            <td>Ajmer</td>\n",
       "            <td>Rajasthan</td>\n",
       "            <td>8481</td>\n",
       "            <td>2583052</td>\n",
       "        </tr>\n",
       "        <tr>\n",
       "            <td>6</td>\n",
       "            <td>Akola</td>\n",
       "            <td>Maharashtra</td>\n",
       "            <td>5676</td>\n",
       "            <td>1813906</td>\n",
       "        </tr>\n",
       "        <tr>\n",
       "            <td>7</td>\n",
       "            <td>Alappuzha</td>\n",
       "            <td>Kerala</td>\n",
       "            <td>1415</td>\n",
       "            <td>2127789</td>\n",
       "        </tr>\n",
       "        <tr>\n",
       "            <td>8</td>\n",
       "            <td>Aligarh</td>\n",
       "            <td>Uttar Pradesh</td>\n",
       "            <td>3650</td>\n",
       "            <td>3673889</td>\n",
       "        </tr>\n",
       "        <tr>\n",
       "            <td>9</td>\n",
       "            <td>Alirajpur</td>\n",
       "            <td>Madhya Pradesh</td>\n",
       "            <td>3182</td>\n",
       "            <td>728999</td>\n",
       "        </tr>\n",
       "    </tbody>\n",
       "</table>"
      ],
      "text/plain": [
       "[(0, 'Adilabad', 'Andhra Pradesh', 16105, 2741239),\n",
       " (1, 'Agra', 'Uttar Pradesh', 4041, 4418797),\n",
       " (2, 'Ahmadabad', 'Gujarat', 8107, 7214225),\n",
       " (3, 'Ahmadnagar', 'Maharashtra', 17048, 4543159),\n",
       " (4, 'Aizawl', 'Mizoram', 3576, 400309),\n",
       " (5, 'Ajmer', 'Rajasthan', 8481, 2583052),\n",
       " (6, 'Akola', 'Maharashtra', 5676, 1813906),\n",
       " (7, 'Alappuzha', 'Kerala', 1415, 2127789),\n",
       " (8, 'Aligarh', 'Uttar Pradesh', 3650, 3673889),\n",
       " (9, 'Alirajpur', 'Madhya Pradesh', 3182, 728999)]"
      ]
     },
     "execution_count": 66,
     "metadata": {},
     "output_type": "execute_result"
    }
   ],
   "source": [
    "%%sql\n",
    "select * from Dataset__2 limit 10"
   ]
  },
  {
   "cell_type": "markdown",
   "id": "b9fece4e",
   "metadata": {},
   "source": [
    "## 07. Checking the number of rows in dataset- Aggregate function \"SUM\".\n",
    "\n"
   ]
  },
  {
   "cell_type": "code",
   "execution_count": 42,
   "id": "83ee345a",
   "metadata": {},
   "outputs": [
    {
     "name": "stdout",
     "output_type": "stream",
     "text": [
      " * sqlite:///jupyter_sql_tutorial.db\n",
      "Done.\n"
     ]
    },
    {
     "data": {
      "text/html": [
       "<table>\n",
       "    <thead>\n",
       "        <tr>\n",
       "            <th>total_rows</th>\n",
       "        </tr>\n",
       "    </thead>\n",
       "    <tbody>\n",
       "        <tr>\n",
       "            <td>640</td>\n",
       "        </tr>\n",
       "    </tbody>\n",
       "</table>"
      ],
      "text/plain": [
       "[(640,)]"
      ]
     },
     "execution_count": 42,
     "metadata": {},
     "output_type": "execute_result"
    }
   ],
   "source": [
    "%%sql\n",
    "select count(*)as total_rows from Dataset__1"
   ]
  },
  {
   "cell_type": "markdown",
   "id": "e1eaa79f",
   "metadata": {},
   "source": [
    "\n"
   ]
  },
  {
   "cell_type": "code",
   "execution_count": 43,
   "id": "37ba5581",
   "metadata": {},
   "outputs": [
    {
     "name": "stdout",
     "output_type": "stream",
     "text": [
      " * sqlite:///jupyter_sql_tutorial.db\n",
      "Done.\n"
     ]
    },
    {
     "data": {
      "text/html": [
       "<table>\n",
       "    <thead>\n",
       "        <tr>\n",
       "            <th>total_rows</th>\n",
       "        </tr>\n",
       "    </thead>\n",
       "    <tbody>\n",
       "        <tr>\n",
       "            <td>640</td>\n",
       "        </tr>\n",
       "    </tbody>\n",
       "</table>"
      ],
      "text/plain": [
       "[(640,)]"
      ]
     },
     "execution_count": 43,
     "metadata": {},
     "output_type": "execute_result"
    }
   ],
   "source": [
    "%%sql\n",
    "select count(*)as total_rows from Dataset__2"
   ]
  },
  {
   "cell_type": "markdown",
   "id": "444d1b11",
   "metadata": {},
   "source": [
    "## 08. Checking  Dataset for state bihar and jharkhand.\n"
   ]
  },
  {
   "cell_type": "code",
   "execution_count": 69,
   "id": "f124fe42",
   "metadata": {},
   "outputs": [
    {
     "name": "stdout",
     "output_type": "stream",
     "text": [
      " * sqlite:///jupyter_sql_tutorial.db\n",
      "Done.\n"
     ]
    },
    {
     "data": {
      "text/html": [
       "<table>\n",
       "    <thead>\n",
       "        <tr>\n",
       "            <th>index</th>\n",
       "            <th>District</th>\n",
       "            <th>State</th>\n",
       "            <th>Growth</th>\n",
       "            <th>Sex_Ratio</th>\n",
       "            <th>Literacy</th>\n",
       "        </tr>\n",
       "    </thead>\n",
       "    <tbody>\n",
       "        <tr>\n",
       "            <td>14</td>\n",
       "            <td>Patna</td>\n",
       "            <td>Bihar</td>\n",
       "            <td>0.2373</td>\n",
       "            <td>897</td>\n",
       "            <td>70.68</td>\n",
       "        </tr>\n",
       "        <tr>\n",
       "            <td>19</td>\n",
       "            <td>Purbi Champaran</td>\n",
       "            <td>Bihar</td>\n",
       "            <td>0.2943</td>\n",
       "            <td>902</td>\n",
       "            <td>55.79</td>\n",
       "        </tr>\n",
       "        <tr>\n",
       "            <td>23</td>\n",
       "            <td>Muzaffarpur</td>\n",
       "            <td>Bihar</td>\n",
       "            <td>0.2814</td>\n",
       "            <td>900</td>\n",
       "            <td>63.43</td>\n",
       "        </tr>\n",
       "        <tr>\n",
       "            <td>36</td>\n",
       "            <td>Madhubani</td>\n",
       "            <td>Bihar</td>\n",
       "            <td>0.2551</td>\n",
       "            <td>926</td>\n",
       "            <td>58.62</td>\n",
       "        </tr>\n",
       "        <tr>\n",
       "            <td>41</td>\n",
       "            <td>Gaya</td>\n",
       "            <td>Bihar</td>\n",
       "            <td>0.2643</td>\n",
       "            <td>937</td>\n",
       "            <td>63.67</td>\n",
       "        </tr>\n",
       "        <tr>\n",
       "            <td>44</td>\n",
       "            <td>Samastipur</td>\n",
       "            <td>Bihar</td>\n",
       "            <td>0.2553</td>\n",
       "            <td>911</td>\n",
       "            <td>61.86</td>\n",
       "        </tr>\n",
       "        <tr>\n",
       "            <td>58</td>\n",
       "            <td>Saran</td>\n",
       "            <td>Bihar</td>\n",
       "            <td>0.2164</td>\n",
       "            <td>954</td>\n",
       "            <td>65.96</td>\n",
       "        </tr>\n",
       "        <tr>\n",
       "            <td>60</td>\n",
       "            <td>Darbhanga</td>\n",
       "            <td>Bihar</td>\n",
       "            <td>0.1947</td>\n",
       "            <td>911</td>\n",
       "            <td>56.56</td>\n",
       "        </tr>\n",
       "        <tr>\n",
       "            <td>63</td>\n",
       "            <td>Pashchim Champaran</td>\n",
       "            <td>Bihar</td>\n",
       "            <td>0.2929</td>\n",
       "            <td>909</td>\n",
       "            <td>55.7</td>\n",
       "        </tr>\n",
       "        <tr>\n",
       "            <td>86</td>\n",
       "            <td>Vaishali</td>\n",
       "            <td>Bihar</td>\n",
       "            <td>0.2857</td>\n",
       "            <td>895</td>\n",
       "            <td>66.6</td>\n",
       "        </tr>\n",
       "    </tbody>\n",
       "</table>"
      ],
      "text/plain": [
       "[(14, 'Patna', 'Bihar', 0.2373, 897, 70.68),\n",
       " (19, 'Purbi Champaran', 'Bihar', 0.2943, 902, 55.79),\n",
       " (23, 'Muzaffarpur', 'Bihar', 0.2814, 900, 63.43),\n",
       " (36, 'Madhubani', 'Bihar', 0.2551, 926, 58.62),\n",
       " (41, 'Gaya', 'Bihar', 0.2643, 937, 63.67),\n",
       " (44, 'Samastipur', 'Bihar', 0.2553, 911, 61.86),\n",
       " (58, 'Saran', 'Bihar', 0.2164, 954, 65.96),\n",
       " (60, 'Darbhanga', 'Bihar', 0.1947, 911, 56.56),\n",
       " (63, 'Pashchim Champaran', 'Bihar', 0.2929, 909, 55.7),\n",
       " (86, 'Vaishali', 'Bihar', 0.2857, 895, 66.6)]"
      ]
     },
     "execution_count": 69,
     "metadata": {},
     "output_type": "execute_result"
    }
   ],
   "source": [
    "%%sql\n",
    "select * from Dataset__1 where State in ('Bihar' , 'Jharkhand') limit 10"
   ]
  },
  {
   "cell_type": "markdown",
   "id": "9e6e920a",
   "metadata": {},
   "source": [
    "## 09. Checking Population of India- Uses of Aggregate function \"SUM\""
   ]
  },
  {
   "cell_type": "code",
   "execution_count": 45,
   "id": "8d9c54f3",
   "metadata": {},
   "outputs": [
    {
     "name": "stdout",
     "output_type": "stream",
     "text": [
      " * sqlite:///jupyter_sql_tutorial.db\n",
      "Done.\n"
     ]
    },
    {
     "data": {
      "text/html": [
       "<table>\n",
       "    <thead>\n",
       "        <tr>\n",
       "            <th>Population</th>\n",
       "        </tr>\n",
       "    </thead>\n",
       "    <tbody>\n",
       "        <tr>\n",
       "            <td>1210854977</td>\n",
       "        </tr>\n",
       "    </tbody>\n",
       "</table>"
      ],
      "text/plain": [
       "[(1210854977,)]"
      ]
     },
     "execution_count": 45,
     "metadata": {},
     "output_type": "execute_result"
    }
   ],
   "source": [
    "%%sql\n",
    "select sum(Population) as Population from Dataset__2\n"
   ]
  },
  {
   "cell_type": "markdown",
   "id": "3e7a592b",
   "metadata": {},
   "source": [
    "##  10. Checking average growth of india- Uses of Aggregate function \"AVG\""
   ]
  },
  {
   "cell_type": "code",
   "execution_count": 46,
   "id": "82c80de6",
   "metadata": {},
   "outputs": [
    {
     "name": "stdout",
     "output_type": "stream",
     "text": [
      " * sqlite:///jupyter_sql_tutorial.db\n",
      "Done.\n"
     ]
    },
    {
     "data": {
      "text/html": [
       "<table>\n",
       "    <thead>\n",
       "        <tr>\n",
       "            <th>Average_growth</th>\n",
       "        </tr>\n",
       "    </thead>\n",
       "    <tbody>\n",
       "        <tr>\n",
       "            <td>19.24592187500001</td>\n",
       "        </tr>\n",
       "    </tbody>\n",
       "</table>"
      ],
      "text/plain": [
       "[(19.24592187500001,)]"
      ]
     },
     "execution_count": 46,
     "metadata": {},
     "output_type": "execute_result"
    }
   ],
   "source": [
    "%%sql\n",
    "select avg(growth)*100 as Average_growth from Dataset__1"
   ]
  },
  {
   "cell_type": "markdown",
   "id": "f15bf4ab",
   "metadata": {},
   "source": [
    "## 11.Checking  Average growth of different states\n",
    " "
   ]
  },
  {
   "cell_type": "code",
   "execution_count": 74,
   "id": "0e2c2a56",
   "metadata": {},
   "outputs": [
    {
     "name": "stdout",
     "output_type": "stream",
     "text": [
      " * sqlite:///jupyter_sql_tutorial.db\n",
      "Done.\n"
     ]
    },
    {
     "data": {
      "text/html": [
       "<table>\n",
       "    <thead>\n",
       "        <tr>\n",
       "            <th>State</th>\n",
       "            <th>Average_growth</th>\n",
       "        </tr>\n",
       "    </thead>\n",
       "    <tbody>\n",
       "        <tr>\n",
       "            <td>Nagaland</td>\n",
       "            <td>82.28090909090909</td>\n",
       "        </tr>\n",
       "        <tr>\n",
       "            <td>Dadra and Nagar Haveli</td>\n",
       "            <td>55.879999999999995</td>\n",
       "        </tr>\n",
       "        <tr>\n",
       "            <td>Daman and Diu</td>\n",
       "            <td>42.74</td>\n",
       "        </tr>\n",
       "        <tr>\n",
       "            <td>Puducherry</td>\n",
       "            <td>34.2975</td>\n",
       "        </tr>\n",
       "        <tr>\n",
       "            <td>Meghalaya</td>\n",
       "            <td>30.39428571428572</td>\n",
       "        </tr>\n",
       "        <tr>\n",
       "            <td>Arunachal Pradesh</td>\n",
       "            <td>27.805624999999996</td>\n",
       "        </tr>\n",
       "        <tr>\n",
       "            <td>Manipur</td>\n",
       "            <td>25.54111111111111</td>\n",
       "        </tr>\n",
       "        <tr>\n",
       "            <td>Bihar</td>\n",
       "            <td>25.23184210526316</td>\n",
       "        </tr>\n",
       "        <tr>\n",
       "            <td>Mizoram</td>\n",
       "            <td>24.346249999999998</td>\n",
       "        </tr>\n",
       "        <tr>\n",
       "            <td>Jammu and Kashmir</td>\n",
       "            <td>24.270454545454545</td>\n",
       "        </tr>\n",
       "    </tbody>\n",
       "</table>"
      ],
      "text/plain": [
       "[('Nagaland', 82.28090909090909),\n",
       " ('Dadra and Nagar Haveli', 55.879999999999995),\n",
       " ('Daman and Diu', 42.74),\n",
       " ('Puducherry', 34.2975),\n",
       " ('Meghalaya', 30.39428571428572),\n",
       " ('Arunachal Pradesh', 27.805624999999996),\n",
       " ('Manipur', 25.54111111111111),\n",
       " ('Bihar', 25.23184210526316),\n",
       " ('Mizoram', 24.346249999999998),\n",
       " ('Jammu and Kashmir', 24.270454545454545)]"
      ]
     },
     "execution_count": 74,
     "metadata": {},
     "output_type": "execute_result"
    }
   ],
   "source": [
    "%%sql\n",
    "select  State  , avg(growth)*100 as Average_growth from Dataset__1 group by State order by Average_growth desc limit 10\n"
   ]
  },
  {
   "cell_type": "code",
   "execution_count": null,
   "id": "5d7d30d9",
   "metadata": {},
   "outputs": [],
   "source": []
  },
  {
   "cell_type": "markdown",
   "id": "56875682",
   "metadata": {},
   "source": [
    "## 12.Checking Average sex ratio of different states \n"
   ]
  },
  {
   "cell_type": "code",
   "execution_count": 73,
   "id": "9b7eaeb6",
   "metadata": {},
   "outputs": [
    {
     "name": "stdout",
     "output_type": "stream",
     "text": [
      " * sqlite:///jupyter_sql_tutorial.db\n",
      "Done.\n"
     ]
    },
    {
     "data": {
      "text/html": [
       "<table>\n",
       "    <thead>\n",
       "        <tr>\n",
       "            <th>State</th>\n",
       "            <th>avg_sex_ratio</th>\n",
       "        </tr>\n",
       "    </thead>\n",
       "    <tbody>\n",
       "        <tr>\n",
       "            <td>Kerala</td>\n",
       "            <td>1080.0</td>\n",
       "        </tr>\n",
       "        <tr>\n",
       "            <td>Puducherry</td>\n",
       "            <td>1075.0</td>\n",
       "        </tr>\n",
       "        <tr>\n",
       "            <td>Uttarakhand</td>\n",
       "            <td>1010.0</td>\n",
       "        </tr>\n",
       "        <tr>\n",
       "            <td>Tamil Nadu</td>\n",
       "            <td>999.0</td>\n",
       "        </tr>\n",
       "        <tr>\n",
       "            <td>Chhattisgarh</td>\n",
       "            <td>995.0</td>\n",
       "        </tr>\n",
       "        <tr>\n",
       "            <td>Andhra Pradesh</td>\n",
       "            <td>995.0</td>\n",
       "        </tr>\n",
       "        <tr>\n",
       "            <td>Orissa</td>\n",
       "            <td>984.0</td>\n",
       "        </tr>\n",
       "        <tr>\n",
       "            <td>Karnataka</td>\n",
       "            <td>984.0</td>\n",
       "        </tr>\n",
       "        <tr>\n",
       "            <td>Meghalaya</td>\n",
       "            <td>980.0</td>\n",
       "        </tr>\n",
       "        <tr>\n",
       "            <td>Manipur</td>\n",
       "            <td>976.0</td>\n",
       "        </tr>\n",
       "    </tbody>\n",
       "</table>"
      ],
      "text/plain": [
       "[('Kerala', 1080.0),\n",
       " ('Puducherry', 1075.0),\n",
       " ('Uttarakhand', 1010.0),\n",
       " ('Tamil Nadu', 999.0),\n",
       " ('Chhattisgarh', 995.0),\n",
       " ('Andhra Pradesh', 995.0),\n",
       " ('Orissa', 984.0),\n",
       " ('Karnataka', 984.0),\n",
       " ('Meghalaya', 980.0),\n",
       " ('Manipur', 976.0)]"
      ]
     },
     "execution_count": 73,
     "metadata": {},
     "output_type": "execute_result"
    }
   ],
   "source": [
    "%%sql\n",
    "select State , round(avg(Sex_Ratio),0) as avg_sex_ratio from Dataset__1 group by \n",
    "State  order by avg_sex_ratio desc limit 10"
   ]
  },
  {
   "cell_type": "code",
   "execution_count": null,
   "id": "151cffd6",
   "metadata": {},
   "outputs": [],
   "source": []
  },
  {
   "cell_type": "markdown",
   "id": "052ea348",
   "metadata": {},
   "source": [
    "## 13. Finding list of the  states which average Literacy ratio is geater than 90- uses of \"GROUP BY \" and  \"HAVING\" Clause\""
   ]
  },
  {
   "cell_type": "code",
   "execution_count": 49,
   "id": "9b6ab463",
   "metadata": {},
   "outputs": [
    {
     "name": "stdout",
     "output_type": "stream",
     "text": [
      " * sqlite:///jupyter_sql_tutorial.db\n",
      "Done.\n"
     ]
    },
    {
     "data": {
      "text/html": [
       "<table>\n",
       "    <thead>\n",
       "        <tr>\n",
       "            <th>State</th>\n",
       "            <th>avg_literacy_ratio</th>\n",
       "        </tr>\n",
       "    </thead>\n",
       "    <tbody>\n",
       "        <tr>\n",
       "            <td>Kerala</td>\n",
       "            <td>94.0</td>\n",
       "        </tr>\n",
       "        <tr>\n",
       "            <td>Lakshadweep</td>\n",
       "            <td>92.0</td>\n",
       "        </tr>\n",
       "    </tbody>\n",
       "</table>"
      ],
      "text/plain": [
       "[('Kerala', 94.0), ('Lakshadweep', 92.0)]"
      ]
     },
     "execution_count": 49,
     "metadata": {},
     "output_type": "execute_result"
    }
   ],
   "source": [
    "%%sql\n",
    "\n",
    "select State , round(avg(Literacy),0) as avg_literacy_ratio from Dataset__1 group by \n",
    "State  having  avg_literacy_ratio >90 order by avg_literacy_ratio desc"
   ]
  },
  {
   "cell_type": "markdown",
   "id": "d533abdc",
   "metadata": {},
   "source": [
    "## 14. List of top three states with highest growth- uses of \"LIMIT\"  Clause."
   ]
  },
  {
   "cell_type": "code",
   "execution_count": 50,
   "id": "61374fd4",
   "metadata": {},
   "outputs": [
    {
     "name": "stdout",
     "output_type": "stream",
     "text": [
      " * sqlite:///jupyter_sql_tutorial.db\n",
      "Done.\n"
     ]
    },
    {
     "data": {
      "text/html": [
       "<table>\n",
       "    <thead>\n",
       "        <tr>\n",
       "            <th>State</th>\n",
       "            <th>Average_growth</th>\n",
       "        </tr>\n",
       "    </thead>\n",
       "    <tbody>\n",
       "        <tr>\n",
       "            <td>Nagaland</td>\n",
       "            <td>82.28090909090909</td>\n",
       "        </tr>\n",
       "        <tr>\n",
       "            <td>Dadra and Nagar Haveli</td>\n",
       "            <td>55.879999999999995</td>\n",
       "        </tr>\n",
       "        <tr>\n",
       "            <td>Daman and Diu</td>\n",
       "            <td>42.74</td>\n",
       "        </tr>\n",
       "    </tbody>\n",
       "</table>"
      ],
      "text/plain": [
       "[('Nagaland', 82.28090909090909),\n",
       " ('Dadra and Nagar Haveli', 55.879999999999995),\n",
       " ('Daman and Diu', 42.74)]"
      ]
     },
     "execution_count": 50,
     "metadata": {},
     "output_type": "execute_result"
    }
   ],
   "source": [
    "%%sql\n",
    "select   State  , avg(growth)*100 as Average_growth from Dataset__1 group by \n",
    "State  order by Average_growth desc limit 3\n",
    "\n",
    "\n"
   ]
  },
  {
   "cell_type": "markdown",
   "id": "761f0384",
   "metadata": {},
   "source": [
    "## 15. List of the states which starting with 'a' and ending with 'm'- uses of \"LIKE\" operator."
   ]
  },
  {
   "cell_type": "code",
   "execution_count": 51,
   "id": "c5817e97",
   "metadata": {},
   "outputs": [
    {
     "name": "stdout",
     "output_type": "stream",
     "text": [
      " * sqlite:///jupyter_sql_tutorial.db\n",
      "Done.\n"
     ]
    },
    {
     "data": {
      "text/html": [
       "<table>\n",
       "    <thead>\n",
       "        <tr>\n",
       "            <th>State</th>\n",
       "        </tr>\n",
       "    </thead>\n",
       "    <tbody>\n",
       "        <tr>\n",
       "            <td>Assam</td>\n",
       "        </tr>\n",
       "    </tbody>\n",
       "</table>"
      ],
      "text/plain": [
       "[('Assam',)]"
      ]
     },
     "execution_count": 51,
     "metadata": {},
     "output_type": "execute_result"
    }
   ],
   "source": [
    "%%sql\n",
    "\n",
    "select distinct State from Dataset__1 where lower(state) like 'a%' and lower (state) \n",
    "like '%m'"
   ]
  },
  {
   "cell_type": "markdown",
   "id": "b0f64d9d",
   "metadata": {},
   "source": [
    "## 16. Joining both table - \"INNER JOIN\""
   ]
  },
  {
   "cell_type": "code",
   "execution_count": 67,
   "id": "c3fade6a",
   "metadata": {},
   "outputs": [
    {
     "name": "stdout",
     "output_type": "stream",
     "text": [
      " * sqlite:///jupyter_sql_tutorial.db\n",
      "Done.\n"
     ]
    },
    {
     "data": {
      "text/html": [
       "<table>\n",
       "    <thead>\n",
       "        <tr>\n",
       "            <th>District</th>\n",
       "            <th>State</th>\n",
       "            <th>Sex_Ratio</th>\n",
       "            <th>Population</th>\n",
       "        </tr>\n",
       "    </thead>\n",
       "    <tbody>\n",
       "        <tr>\n",
       "            <td>Thane</td>\n",
       "            <td>Maharashtra</td>\n",
       "            <td>886</td>\n",
       "            <td>11060148</td>\n",
       "        </tr>\n",
       "        <tr>\n",
       "            <td>North Twenty Four Parganas</td>\n",
       "            <td>West Bengal</td>\n",
       "            <td>955</td>\n",
       "            <td>10009781</td>\n",
       "        </tr>\n",
       "        <tr>\n",
       "            <td>Bangalore</td>\n",
       "            <td>Karnataka</td>\n",
       "            <td>916</td>\n",
       "            <td>9621551</td>\n",
       "        </tr>\n",
       "        <tr>\n",
       "            <td>Pune</td>\n",
       "            <td>Maharashtra</td>\n",
       "            <td>915</td>\n",
       "            <td>9429408</td>\n",
       "        </tr>\n",
       "        <tr>\n",
       "            <td>Mumbai Suburban</td>\n",
       "            <td>Maharashtra</td>\n",
       "            <td>860</td>\n",
       "            <td>9356962</td>\n",
       "        </tr>\n",
       "        <tr>\n",
       "            <td>South Twenty Four Parganas</td>\n",
       "            <td>West Bengal</td>\n",
       "            <td>956</td>\n",
       "            <td>8161961</td>\n",
       "        </tr>\n",
       "        <tr>\n",
       "            <td>Barddhaman</td>\n",
       "            <td>West Bengal</td>\n",
       "            <td>945</td>\n",
       "            <td>7717563</td>\n",
       "        </tr>\n",
       "        <tr>\n",
       "            <td>Ahmadabad</td>\n",
       "            <td>Gujarat</td>\n",
       "            <td>904</td>\n",
       "            <td>7214225</td>\n",
       "        </tr>\n",
       "        <tr>\n",
       "            <td>Murshidabad</td>\n",
       "            <td>West Bengal</td>\n",
       "            <td>958</td>\n",
       "            <td>7103807</td>\n",
       "        </tr>\n",
       "        <tr>\n",
       "            <td>Jaipur</td>\n",
       "            <td>Rajasthan</td>\n",
       "            <td>910</td>\n",
       "            <td>6626178</td>\n",
       "        </tr>\n",
       "    </tbody>\n",
       "</table>"
      ],
      "text/plain": [
       "[('Thane', 'Maharashtra', 886, 11060148),\n",
       " ('North Twenty Four Parganas', 'West Bengal', 955, 10009781),\n",
       " ('Bangalore', 'Karnataka', 916, 9621551),\n",
       " ('Pune', 'Maharashtra', 915, 9429408),\n",
       " ('Mumbai Suburban', 'Maharashtra', 860, 9356962),\n",
       " ('South Twenty Four Parganas', 'West Bengal', 956, 8161961),\n",
       " ('Barddhaman', 'West Bengal', 945, 7717563),\n",
       " ('Ahmadabad', 'Gujarat', 904, 7214225),\n",
       " ('Murshidabad', 'West Bengal', 958, 7103807),\n",
       " ('Jaipur', 'Rajasthan', 910, 6626178)]"
      ]
     },
     "execution_count": 67,
     "metadata": {},
     "output_type": "execute_result"
    }
   ],
   "source": [
    "%%sql\n",
    "select a.District , a.State , a.Sex_Ratio , b.Population from Dataset__1 as a inner \n",
    "join Dataset_2 as b on a.District = b.District limit 10\n"
   ]
  },
  {
   "cell_type": "code",
   "execution_count": null,
   "id": "8ef9b17f",
   "metadata": {},
   "outputs": [],
   "source": []
  },
  {
   "cell_type": "markdown",
   "id": "97dc5a5a",
   "metadata": {},
   "source": [
    "## 17. Finding number of Males and Females in different states- uses of 'Subquery' and 'Alias'."
   ]
  },
  {
   "cell_type": "code",
   "execution_count": 72,
   "id": "78104e6f",
   "metadata": {},
   "outputs": [
    {
     "name": "stdout",
     "output_type": "stream",
     "text": [
      " * sqlite:///jupyter_sql_tutorial.db\n",
      "Done.\n"
     ]
    },
    {
     "data": {
      "text/html": [
       "<table>\n",
       "    <thead>\n",
       "        <tr>\n",
       "            <th>state</th>\n",
       "            <th>total_males</th>\n",
       "            <th>total_females</th>\n",
       "        </tr>\n",
       "    </thead>\n",
       "    <tbody>\n",
       "        <tr>\n",
       "            <td>Andaman And Nicobar Islands</td>\n",
       "            <td>274984.0</td>\n",
       "            <td>0.0</td>\n",
       "        </tr>\n",
       "        <tr>\n",
       "            <td>Andhra Pradesh</td>\n",
       "            <td>66989042.0</td>\n",
       "            <td>17591730.0</td>\n",
       "        </tr>\n",
       "        <tr>\n",
       "            <td>Arunachal Pradesh</td>\n",
       "            <td>1121771.0</td>\n",
       "            <td>85383.0</td>\n",
       "        </tr>\n",
       "        <tr>\n",
       "            <td>Assam</td>\n",
       "            <td>31205576.0</td>\n",
       "            <td>0.0</td>\n",
       "        </tr>\n",
       "        <tr>\n",
       "            <td>Bihar</td>\n",
       "            <td>101420357.0</td>\n",
       "            <td>1281006.0</td>\n",
       "        </tr>\n",
       "        <tr>\n",
       "            <td>Chandigarh</td>\n",
       "            <td>1055450.0</td>\n",
       "            <td>0.0</td>\n",
       "        </tr>\n",
       "        <tr>\n",
       "            <td>Chhattisgarh</td>\n",
       "            <td>24360212.0</td>\n",
       "            <td>2817266.0</td>\n",
       "        </tr>\n",
       "        <tr>\n",
       "            <td>Daman and Diu</td>\n",
       "            <td>217210.0</td>\n",
       "            <td>26037.0</td>\n",
       "        </tr>\n",
       "        <tr>\n",
       "            <td>Delhi</td>\n",
       "            <td>142004.0</td>\n",
       "            <td>0.0</td>\n",
       "        </tr>\n",
       "        <tr>\n",
       "            <td>Goa</td>\n",
       "            <td>1458545.0</td>\n",
       "            <td>0.0</td>\n",
       "        </tr>\n",
       "    </tbody>\n",
       "</table>"
      ],
      "text/plain": [
       "[('Andaman And Nicobar Islands', 274984.0, 0.0),\n",
       " ('Andhra Pradesh', 66989042.0, 17591730.0),\n",
       " ('Arunachal Pradesh', 1121771.0, 85383.0),\n",
       " ('Assam', 31205576.0, 0.0),\n",
       " ('Bihar', 101420357.0, 1281006.0),\n",
       " ('Chandigarh', 1055450.0, 0.0),\n",
       " ('Chhattisgarh', 24360212.0, 2817266.0),\n",
       " ('Daman and Diu', 217210.0, 26037.0),\n",
       " ('Delhi', 142004.0, 0.0),\n",
       " ('Goa', 1458545.0, 0.0)]"
      ]
     },
     "execution_count": 72,
     "metadata": {},
     "output_type": "execute_result"
    }
   ],
   "source": [
    "%%sql\n",
    "\n",
    "select d.state , sum(d.males)as total_males, sum(d.females) as total_females from\n",
    "\n",
    "(select c.district , c.state , round((c.population)/(c.sex_ratio+1),0) as males , \n",
    "round((c.population*c.sex_ratio)/(c.sex_ratio+1) ,0) as females from\n",
    " \n",
    "(select a.District , a.State , a.Sex_Ratio/1000 as sex_ratio, b.Population from \n",
    "Dataset_1 as a inner join Dataset__2 as b on a.District = b.District) as c)\n",
    "\n",
    "as d\n",
    "\n",
    "group by d.state limit 10\n"
   ]
  },
  {
   "cell_type": "code",
   "execution_count": null,
   "id": "cfda3e79",
   "metadata": {},
   "outputs": [],
   "source": []
  },
  {
   "cell_type": "markdown",
   "id": "a66c8138",
   "metadata": {},
   "source": [
    "## 18. Checking Total literacy ratio of different states"
   ]
  },
  {
   "cell_type": "code",
   "execution_count": 71,
   "id": "9734fb9c",
   "metadata": {},
   "outputs": [
    {
     "name": "stdout",
     "output_type": "stream",
     "text": [
      " * sqlite:///jupyter_sql_tutorial.db\n",
      "Done.\n"
     ]
    },
    {
     "data": {
      "text/html": [
       "<table>\n",
       "    <thead>\n",
       "        <tr>\n",
       "            <th>state</th>\n",
       "            <th>total_literate_people</th>\n",
       "            <th>total_illiterate_people</th>\n",
       "        </tr>\n",
       "    </thead>\n",
       "    <tbody>\n",
       "        <tr>\n",
       "            <td>Andaman And Nicobar Islands</td>\n",
       "            <td>241015.0</td>\n",
       "            <td>33969.0</td>\n",
       "        </tr>\n",
       "        <tr>\n",
       "            <td>Andhra Pradesh</td>\n",
       "            <td>56671677.0</td>\n",
       "            <td>27909100.0</td>\n",
       "        </tr>\n",
       "        <tr>\n",
       "            <td>Arunachal Pradesh</td>\n",
       "            <td>761557.0</td>\n",
       "            <td>445597.0</td>\n",
       "        </tr>\n",
       "        <tr>\n",
       "            <td>Assam</td>\n",
       "            <td>22484409.0</td>\n",
       "            <td>8721167.0</td>\n",
       "        </tr>\n",
       "        <tr>\n",
       "            <td>Bihar</td>\n",
       "            <td>63994271.0</td>\n",
       "            <td>38707092.0</td>\n",
       "        </tr>\n",
       "        <tr>\n",
       "            <td>Chandigarh</td>\n",
       "            <td>908215.0</td>\n",
       "            <td>147235.0</td>\n",
       "        </tr>\n",
       "        <tr>\n",
       "            <td>Chhattisgarh</td>\n",
       "            <td>18621154.0</td>\n",
       "            <td>8556328.0</td>\n",
       "        </tr>\n",
       "        <tr>\n",
       "            <td>Daman and Diu</td>\n",
       "            <td>211827.0</td>\n",
       "            <td>31420.0</td>\n",
       "        </tr>\n",
       "        <tr>\n",
       "            <td>Delhi</td>\n",
       "            <td>125446.0</td>\n",
       "            <td>16558.0</td>\n",
       "        </tr>\n",
       "        <tr>\n",
       "            <td>Goa</td>\n",
       "            <td>1293736.0</td>\n",
       "            <td>164809.0</td>\n",
       "        </tr>\n",
       "    </tbody>\n",
       "</table>"
      ],
      "text/plain": [
       "[('Andaman And Nicobar Islands', 241015.0, 33969.0),\n",
       " ('Andhra Pradesh', 56671677.0, 27909100.0),\n",
       " ('Arunachal Pradesh', 761557.0, 445597.0),\n",
       " ('Assam', 22484409.0, 8721167.0),\n",
       " ('Bihar', 63994271.0, 38707092.0),\n",
       " ('Chandigarh', 908215.0, 147235.0),\n",
       " ('Chhattisgarh', 18621154.0, 8556328.0),\n",
       " ('Daman and Diu', 211827.0, 31420.0),\n",
       " ('Delhi', 125446.0, 16558.0),\n",
       " ('Goa', 1293736.0, 164809.0)]"
      ]
     },
     "execution_count": 71,
     "metadata": {},
     "output_type": "execute_result"
    }
   ],
   "source": [
    "%%sql\n",
    "\n",
    "select c.state,sum(c.literate_people) as total_literate_people,sum\n",
    "(c.illiterate_people) as total_illiterate_people from\n",
    "\n",
    "(select d.district,d.state,round( d.literacy_ratio*d.population,0) as \n",
    "literate_people,round((1-d.literacy_ratio)*d.population,0) as illiterate_people \n",
    "from \n",
    " \n",
    "(select a.district,a.state,a.literacy/100 as literacy_ratio ,b.population from \n",
    "Dataset_1 as a inner join Dataset__2 as b on a.District=b.District ) as d)\n",
    "\n",
    "as c\n",
    "\n",
    "group by c.state limit 10"
   ]
  },
  {
   "cell_type": "code",
   "execution_count": null,
   "id": "5e832572",
   "metadata": {},
   "outputs": [],
   "source": []
  },
  {
   "cell_type": "markdown",
   "id": "df1c9e0f",
   "metadata": {},
   "source": [
    "## 19. Cheking the Population in previous Census."
   ]
  },
  {
   "cell_type": "code",
   "execution_count": 70,
   "id": "07e56279",
   "metadata": {},
   "outputs": [
    {
     "name": "stdout",
     "output_type": "stream",
     "text": [
      " * sqlite:///jupyter_sql_tutorial.db\n",
      "Done.\n"
     ]
    },
    {
     "data": {
      "text/html": [
       "<table>\n",
       "    <thead>\n",
       "        <tr>\n",
       "            <th>state</th>\n",
       "            <th>prev_census_population</th>\n",
       "            <th>curr_census_population</th>\n",
       "        </tr>\n",
       "    </thead>\n",
       "    <tbody>\n",
       "        <tr>\n",
       "            <td>Andaman And Nicobar Islands</td>\n",
       "            <td>245672.0</td>\n",
       "            <td>274984</td>\n",
       "        </tr>\n",
       "        <tr>\n",
       "            <td>Andhra Pradesh</td>\n",
       "            <td>74686197.0</td>\n",
       "            <td>84580777</td>\n",
       "        </tr>\n",
       "        <tr>\n",
       "            <td>Arunachal Pradesh</td>\n",
       "            <td>866114.0</td>\n",
       "            <td>1207154</td>\n",
       "        </tr>\n",
       "        <tr>\n",
       "            <td>Assam</td>\n",
       "            <td>25807225.0</td>\n",
       "            <td>31205576</td>\n",
       "        </tr>\n",
       "        <tr>\n",
       "            <td>Bihar</td>\n",
       "            <td>76674920.0</td>\n",
       "            <td>102701363</td>\n",
       "        </tr>\n",
       "        <tr>\n",
       "            <td>Chandigarh</td>\n",
       "            <td>874018.0</td>\n",
       "            <td>1055450</td>\n",
       "        </tr>\n",
       "        <tr>\n",
       "            <td>Chhattisgarh</td>\n",
       "            <td>21107276.0</td>\n",
       "            <td>27177482</td>\n",
       "        </tr>\n",
       "        <tr>\n",
       "            <td>Daman and Diu</td>\n",
       "            <td>104550.0</td>\n",
       "            <td>243247</td>\n",
       "        </tr>\n",
       "        <tr>\n",
       "            <td>Delhi</td>\n",
       "            <td>171427.0</td>\n",
       "            <td>142004</td>\n",
       "        </tr>\n",
       "        <tr>\n",
       "            <td>Goa</td>\n",
       "            <td>1338494.0</td>\n",
       "            <td>1458545</td>\n",
       "        </tr>\n",
       "    </tbody>\n",
       "</table>"
      ],
      "text/plain": [
       "[('Andaman And Nicobar Islands', 245672.0, 274984),\n",
       " ('Andhra Pradesh', 74686197.0, 84580777),\n",
       " ('Arunachal Pradesh', 866114.0, 1207154),\n",
       " ('Assam', 25807225.0, 31205576),\n",
       " ('Bihar', 76674920.0, 102701363),\n",
       " ('Chandigarh', 874018.0, 1055450),\n",
       " ('Chhattisgarh', 21107276.0, 27177482),\n",
       " ('Daman and Diu', 104550.0, 243247),\n",
       " ('Delhi', 171427.0, 142004),\n",
       " ('Goa', 1338494.0, 1458545)]"
      ]
     },
     "execution_count": 70,
     "metadata": {},
     "output_type": "execute_result"
    }
   ],
   "source": [
    "%%sql\n",
    "\n",
    "select d.state,sum(d.prev_populatoin) as prev_census_population , sum\n",
    "(d.curr_population) as curr_census_population from\n",
    "\n",
    "(select c.district ,c.state, round(( c.population- c.growth*c.population ),0) as \n",
    "prev_populatoin , c.growth, c.population as curr_population from \n",
    " \n",
    "(select a.district,a.state,a.Growth as Growth ,b.population from Dataset_1 as a inner \n",
    "join Dataset__2 as b on a.District=b.District)as c) \n",
    "\n",
    "as d \n",
    "\n",
    "group by d.state limit 10\n"
   ]
  },
  {
   "cell_type": "code",
   "execution_count": null,
   "id": "5dd11acf",
   "metadata": {},
   "outputs": [],
   "source": []
  },
  {
   "cell_type": "markdown",
   "id": "79c455f5",
   "metadata": {},
   "source": [
    "##  20. List of top three district of every states with highest literacy rate - uses of \"RANK\" function.\n"
   ]
  },
  {
   "cell_type": "code",
   "execution_count": 68,
   "id": "bac6b997",
   "metadata": {},
   "outputs": [
    {
     "name": "stdout",
     "output_type": "stream",
     "text": [
      " * sqlite:///jupyter_sql_tutorial.db\n",
      "Done.\n"
     ]
    },
    {
     "data": {
      "text/html": [
       "<table>\n",
       "    <thead>\n",
       "        <tr>\n",
       "            <th>district</th>\n",
       "            <th>state</th>\n",
       "            <th>literacy</th>\n",
       "            <th>rnk</th>\n",
       "        </tr>\n",
       "    </thead>\n",
       "    <tbody>\n",
       "        <tr>\n",
       "            <td>South Andaman</td>\n",
       "            <td>Andaman And Nicobar Islands</td>\n",
       "            <td>89.13</td>\n",
       "            <td>1</td>\n",
       "        </tr>\n",
       "        <tr>\n",
       "            <td>North And Middle Andaman</td>\n",
       "            <td>Andaman And Nicobar Islands</td>\n",
       "            <td>83.91</td>\n",
       "            <td>2</td>\n",
       "        </tr>\n",
       "        <tr>\n",
       "            <td>Nicobars</td>\n",
       "            <td>Andaman And Nicobar Islands</td>\n",
       "            <td>78.06</td>\n",
       "            <td>3</td>\n",
       "        </tr>\n",
       "        <tr>\n",
       "            <td>Hyderabad</td>\n",
       "            <td>Andhra Pradesh</td>\n",
       "            <td>83.25</td>\n",
       "            <td>1</td>\n",
       "        </tr>\n",
       "        <tr>\n",
       "            <td>Rangareddy</td>\n",
       "            <td>Andhra Pradesh</td>\n",
       "            <td>75.87</td>\n",
       "            <td>2</td>\n",
       "        </tr>\n",
       "        <tr>\n",
       "            <td>West Godavari</td>\n",
       "            <td>Andhra Pradesh</td>\n",
       "            <td>74.63</td>\n",
       "            <td>3</td>\n",
       "        </tr>\n",
       "        <tr>\n",
       "            <td>Papumpare</td>\n",
       "            <td>Arunachal Pradesh</td>\n",
       "            <td>79.95</td>\n",
       "            <td>1</td>\n",
       "        </tr>\n",
       "        <tr>\n",
       "            <td>Lower Subansiri</td>\n",
       "            <td>Arunachal Pradesh</td>\n",
       "            <td>74.35</td>\n",
       "            <td>2</td>\n",
       "        </tr>\n",
       "        <tr>\n",
       "            <td>East Siang</td>\n",
       "            <td>Arunachal Pradesh</td>\n",
       "            <td>72.54</td>\n",
       "            <td>3</td>\n",
       "        </tr>\n",
       "        <tr>\n",
       "            <td>Kamrup Metropolitan</td>\n",
       "            <td>Assam</td>\n",
       "            <td>88.71</td>\n",
       "            <td>1</td>\n",
       "        </tr>\n",
       "    </tbody>\n",
       "</table>"
      ],
      "text/plain": [
       "[('South Andaman', 'Andaman And Nicobar Islands', 89.13, 1),\n",
       " ('North And Middle Andaman', 'Andaman And Nicobar Islands', 83.91, 2),\n",
       " ('Nicobars', 'Andaman And Nicobar Islands', 78.06, 3),\n",
       " ('Hyderabad', 'Andhra Pradesh', 83.25, 1),\n",
       " ('Rangareddy', 'Andhra Pradesh', 75.87, 2),\n",
       " ('West Godavari', 'Andhra Pradesh', 74.63, 3),\n",
       " ('Papumpare', 'Arunachal Pradesh', 79.95, 1),\n",
       " ('Lower Subansiri', 'Arunachal Pradesh', 74.35, 2),\n",
       " ('East Siang', 'Arunachal Pradesh', 72.54, 3),\n",
       " ('Kamrup Metropolitan', 'Assam', 88.71, 1)]"
      ]
     },
     "execution_count": 68,
     "metadata": {},
     "output_type": "execute_result"
    }
   ],
   "source": [
    "%%sql\n",
    "select a.* from\n",
    "(select district,state, literacy ,rank() over(partition by state order by literacy \n",
    "desc ) as rnk from Dataset__1) as a\n",
    "where a.rnk in(1,2,3) limit 10"
   ]
  },
  {
   "cell_type": "code",
   "execution_count": null,
   "id": "0eb9a7f2",
   "metadata": {},
   "outputs": [],
   "source": []
  },
  {
   "cell_type": "markdown",
   "id": "9d2a9529",
   "metadata": {},
   "source": [
    "# Conclusion:\n",
    "\n",
    "The analysis of Indian census data using SQL has provided valuable insights into the demographic landscape and socioeconomic indicators of the country. By leveraging powerful querying and data manipulation techniques, I was able to extract meaningful information and identify important patterns and trends.\n",
    "\n",
    "Key findings from the analysis include:\n",
    "\n",
    "Population Distribution: The analysis revealed the distribution of population across different states and district. It highlighted the regions  with higher population densities. This information can aid in  resource allocation, and infrastructure development.\n",
    "\n",
    "Socioeconomic Indicators: By analyzing variables such as literacy rates and growth rateswe gained an understanding of the social and economic conditions prevailing in different regions. This knowledge can inform policies and initiatives aimed at promoting inclusive growth, reducing inequality, and improving living standards.\n",
    "\n",
    "Demographic Trends: The analysis uncovered demographic trends such as population growth rates and gender ratios. These insights help in identifying potential challenges and opportunities related to healthcare, education, and social welfare programs.\n",
    "\n",
    "\n",
    "\n",
    "In conclusion, the analysis of Indian census data using SQL has provided a comprehensive view of the country's demographics and socioeconomic landscape. The insights gained from this analysis can inform evidence-based decision-making, policy formulation, and resource allocation, with the ultimate goal of fostering sustainable and inclusive development across India."
   ]
  }
 ],
 "metadata": {
  "kernelspec": {
   "display_name": "Python 3 (ipykernel)",
   "language": "python",
   "name": "python3"
  },
  "language_info": {
   "codemirror_mode": {
    "name": "ipython",
    "version": 3
   },
   "file_extension": ".py",
   "mimetype": "text/x-python",
   "name": "python",
   "nbconvert_exporter": "python",
   "pygments_lexer": "ipython3",
   "version": "3.9.12"
  }
 },
 "nbformat": 4,
 "nbformat_minor": 5
}
